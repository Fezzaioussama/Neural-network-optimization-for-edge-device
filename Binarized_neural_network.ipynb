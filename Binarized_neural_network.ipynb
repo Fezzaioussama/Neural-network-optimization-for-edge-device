{
  "nbformat": 4,
  "nbformat_minor": 0,
  "metadata": {
    "colab": {
      "provenance": []
    },
    "kernelspec": {
      "name": "python3",
      "display_name": "Python 3"
    },
    "language_info": {
      "name": "python"
    }
  },
  "cells": [
    {
      "cell_type": "code",
      "source": [
        "import numpy as np\n",
        "import matplotlib.pyplot as plt\n",
        "\n",
        "def bin_step(x):\n",
        "    return 1 if x >= 0 else 0\n",
        "\n",
        "def ba_bin_step(x):\n",
        "    return 1 if (x >= -1 and x <= 1) else 0\n",
        "\n",
        "inputs = np.random.rand(100)\n",
        "outputs = inputs + 2 * np.random.rand(100) + 1\n",
        "\n",
        "# Initialize weights and bias\n",
        "w = -10\n",
        "b = -10\n",
        "lr = 0.01  # Learning rate (adjusted)\n",
        "epochs = 100000\n",
        "\n",
        "for epoch in range(epochs):\n",
        "    total_error = 0\n",
        "    derr_w = 0  # Initialize gradients for the epoch\n",
        "    derr_b = 0\n",
        "\n",
        "    for i in range(100):\n",
        "        y = bin_step(w) * inputs[i] + bin_step(b)\n",
        "        y_bin = bin_step(y)\n",
        "\n",
        "        err = outputs[i] - y_bin\n",
        "        total_error += err\n",
        "        derr_w += -2 * inputs[i] * err * ba_bin_step(y)\n",
        "        derr_b += -2 * err * ba_bin_step(y)\n",
        "\n",
        "    w -= lr * derr_w  # Update weights after processing all data points for the epoch\n",
        "    b -= lr * derr_b\n",
        "\n",
        "y = w * inputs + b\n",
        "\n",
        "# Plot the data\n",
        "plt.scatter(inputs, outputs, label=\"Actual\")\n",
        "plt.plot(inputs, y, color='red', label=\"Predicted\")\n",
        "plt.legend()\n",
        "plt.show()\n",
        "print(\"Updated weights (w):\", w)\n",
        "print(\"Updated bias (b):\", b)\n"
      ],
      "metadata": {
        "id": "9v_QpZdGEH5I"
      },
      "execution_count": null,
      "outputs": []
    }
  ]
}